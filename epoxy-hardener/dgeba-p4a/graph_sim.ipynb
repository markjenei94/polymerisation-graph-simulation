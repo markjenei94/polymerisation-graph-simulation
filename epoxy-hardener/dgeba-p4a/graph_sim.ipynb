{
 "cells": [
  {
   "cell_type": "code",
   "execution_count": 7,
   "metadata": {
    "collapsed": true,
    "pycharm": {
     "name": "#%%\n"
    }
   },
   "outputs": [],
   "source": [
    "from modules.graph_simulation import KineticRates, System, GraphSimulation\n",
    "from modules.post_process import PostProcess\n",
    "import matplotlib.pyplot as plt\n",
    "import numpy as np"
   ]
  },
  {
   "cell_type": "code",
   "execution_count": 8,
   "outputs": [
    {
     "name": "stderr",
     "output_type": "stream",
     "text": [
      "100%|██████████| 234/234.0 [00:03<00:00, 71.25it/s]\n",
      "100%|██████████| 234/234.0 [00:03<00:00, 75.88it/s]\n",
      "100%|██████████| 234/234.0 [00:03<00:00, 69.45it/s]\n",
      "100%|██████████| 234/234.0 [00:03<00:00, 67.54it/s]\n",
      "100%|██████████| 234/234.0 [00:03<00:00, 70.35it/s]\n",
      "100%|██████████| 234/234.0 [00:03<00:00, 66.02it/s]\n",
      "100%|██████████| 234/234.0 [00:03<00:00, 61.81it/s]\n",
      "100%|██████████| 234/234.0 [00:03<00:00, 60.25it/s]\n",
      "100%|██████████| 234/234.0 [00:03<00:00, 68.51it/s]\n",
      "100%|██████████| 234/234.0 [00:03<00:00, 65.51it/s]\n",
      "100%|██████████| 234/234.0 [00:03<00:00, 69.16it/s]\n",
      "100%|██████████| 234/234.0 [00:03<00:00, 69.00it/s]\n",
      "100%|██████████| 234/234.0 [00:03<00:00, 64.85it/s]\n",
      "100%|██████████| 234/234.0 [00:03<00:00, 69.72it/s]\n",
      "100%|██████████| 234/234.0 [00:03<00:00, 68.92it/s]\n",
      "100%|██████████| 234/234.0 [00:03<00:00, 67.39it/s]\n",
      "100%|██████████| 234/234.0 [00:03<00:00, 69.63it/s]\n",
      "100%|██████████| 234/234.0 [00:03<00:00, 66.44it/s]\n",
      "100%|██████████| 234/234.0 [00:03<00:00, 68.45it/s]\n",
      "100%|██████████| 234/234.0 [00:03<00:00, 68.36it/s]\n",
      "100%|██████████| 234/234.0 [00:03<00:00, 66.63it/s]\n",
      "100%|██████████| 234/234.0 [00:03<00:00, 66.94it/s]\n",
      "100%|██████████| 234/234.0 [00:03<00:00, 66.29it/s]\n",
      "100%|██████████| 234/234.0 [00:03<00:00, 68.50it/s]\n",
      "100%|██████████| 234/234.0 [00:03<00:00, 62.95it/s]\n",
      "100%|██████████| 234/234.0 [00:03<00:00, 65.74it/s]\n",
      "100%|██████████| 234/234.0 [00:03<00:00, 68.32it/s]\n",
      "100%|██████████| 234/234.0 [00:03<00:00, 67.64it/s]\n",
      "100%|██████████| 234/234.0 [00:03<00:00, 68.08it/s]\n",
      "100%|██████████| 234/234.0 [00:03<00:00, 64.68it/s]\n",
      "100%|██████████| 234/234.0 [00:03<00:00, 67.34it/s]\n",
      "100%|██████████| 234/234.0 [00:03<00:00, 64.71it/s]\n",
      "100%|██████████| 234/234.0 [00:03<00:00, 66.50it/s]\n",
      "100%|██████████| 234/234.0 [00:03<00:00, 68.29it/s]\n",
      "100%|██████████| 234/234.0 [00:03<00:00, 63.07it/s]\n",
      "100%|██████████| 234/234.0 [00:03<00:00, 66.94it/s]\n",
      "100%|██████████| 234/234.0 [00:03<00:00, 68.76it/s]\n",
      "100%|██████████| 234/234.0 [00:03<00:00, 67.88it/s]\n",
      "100%|██████████| 234/234.0 [00:03<00:00, 65.69it/s]\n",
      "100%|██████████| 234/234.0 [00:03<00:00, 60.62it/s]\n",
      "100%|██████████| 234/234.0 [00:03<00:00, 68.66it/s]\n",
      "100%|██████████| 234/234.0 [00:03<00:00, 66.11it/s]\n",
      "100%|██████████| 234/234.0 [00:03<00:00, 66.62it/s]\n",
      "100%|██████████| 234/234.0 [00:03<00:00, 68.70it/s]\n",
      "100%|██████████| 234/234.0 [00:03<00:00, 66.89it/s]\n",
      "100%|██████████| 234/234.0 [00:03<00:00, 68.12it/s]\n",
      "100%|██████████| 234/234.0 [00:03<00:00, 64.03it/s]\n",
      "100%|██████████| 234/234.0 [00:03<00:00, 68.05it/s]\n",
      "100%|██████████| 234/234.0 [00:03<00:00, 68.45it/s]\n",
      "100%|██████████| 234/234.0 [00:03<00:00, 68.89it/s]\n",
      "100%|██████████| 234/234.0 [00:03<00:00, 66.64it/s]\n",
      "100%|██████████| 234/234.0 [00:03<00:00, 65.83it/s]\n",
      "100%|██████████| 234/234.0 [00:03<00:00, 68.55it/s]\n",
      "100%|██████████| 234/234.0 [00:03<00:00, 67.19it/s]\n",
      "100%|██████████| 234/234.0 [00:03<00:00, 68.49it/s]\n",
      "100%|██████████| 234/234.0 [00:03<00:00, 68.17it/s]\n",
      "100%|██████████| 234/234.0 [00:03<00:00, 66.36it/s]\n",
      "100%|██████████| 234/234.0 [00:03<00:00, 65.86it/s]\n",
      "100%|██████████| 234/234.0 [00:03<00:00, 67.04it/s]\n",
      "100%|██████████| 234/234.0 [00:03<00:00, 69.08it/s]\n",
      "100%|██████████| 234/234.0 [00:03<00:00, 61.37it/s]\n",
      "100%|██████████| 234/234.0 [00:03<00:00, 65.97it/s]\n",
      "100%|██████████| 234/234.0 [00:03<00:00, 61.96it/s]\n",
      "100%|██████████| 234/234.0 [00:03<00:00, 65.08it/s]\n",
      "100%|██████████| 234/234.0 [00:03<00:00, 65.65it/s]\n",
      "100%|██████████| 234/234.0 [00:03<00:00, 66.86it/s]\n",
      "100%|██████████| 234/234.0 [00:03<00:00, 64.46it/s]\n",
      "100%|██████████| 234/234.0 [00:03<00:00, 66.24it/s]\n",
      "100%|██████████| 234/234.0 [00:03<00:00, 60.06it/s]\n",
      "100%|██████████| 234/234.0 [00:03<00:00, 64.91it/s]\n",
      "100%|██████████| 234/234.0 [00:03<00:00, 67.88it/s]\n",
      "100%|██████████| 234/234.0 [00:03<00:00, 67.76it/s]\n",
      "100%|██████████| 234/234.0 [00:03<00:00, 67.17it/s]\n",
      "100%|██████████| 234/234.0 [00:03<00:00, 67.43it/s]\n",
      "100%|██████████| 234/234.0 [00:03<00:00, 67.32it/s]\n",
      "100%|██████████| 234/234.0 [00:03<00:00, 64.52it/s]\n",
      "100%|██████████| 234/234.0 [00:03<00:00, 67.01it/s]\n",
      "100%|██████████| 234/234.0 [00:03<00:00, 64.32it/s]\n",
      "100%|██████████| 234/234.0 [00:03<00:00, 67.73it/s]\n",
      "100%|██████████| 234/234.0 [00:03<00:00, 60.34it/s]\n",
      "100%|██████████| 234/234.0 [00:03<00:00, 65.16it/s]\n",
      "100%|██████████| 234/234.0 [00:03<00:00, 66.83it/s]\n",
      "100%|██████████| 234/234.0 [00:03<00:00, 65.57it/s]\n",
      "100%|██████████| 234/234.0 [00:03<00:00, 64.50it/s]\n",
      "100%|██████████| 234/234.0 [00:03<00:00, 65.49it/s]\n",
      "100%|██████████| 234/234.0 [00:03<00:00, 65.42it/s]\n",
      "100%|██████████| 234/234.0 [00:03<00:00, 68.59it/s]\n",
      "100%|██████████| 234/234.0 [00:03<00:00, 65.73it/s]\n",
      "100%|██████████| 234/234.0 [00:03<00:00, 66.87it/s]\n",
      "100%|██████████| 234/234.0 [00:03<00:00, 65.87it/s]\n",
      "100%|██████████| 234/234.0 [00:03<00:00, 67.81it/s]\n",
      "100%|██████████| 234/234.0 [00:03<00:00, 67.91it/s]\n",
      "100%|██████████| 234/234.0 [00:03<00:00, 67.91it/s]\n",
      "100%|██████████| 234/234.0 [00:03<00:00, 67.88it/s]\n",
      "100%|██████████| 234/234.0 [00:03<00:00, 67.39it/s]\n",
      "100%|██████████| 234/234.0 [00:03<00:00, 67.33it/s]\n",
      "100%|██████████| 234/234.0 [00:03<00:00, 62.62it/s]\n",
      "100%|██████████| 234/234.0 [00:03<00:00, 64.33it/s]\n",
      "100%|██████████| 234/234.0 [00:03<00:00, 62.32it/s]\n",
      "100%|██████████| 234/234.0 [00:03<00:00, 66.28it/s]\n"
     ]
    }
   ],
   "source": [
    "loads = [130, 65]\n",
    "functionalities = [2, 4]\n",
    "kinetic_rates = KineticRates(functionalities, preset=\"two_component_uniform\")\n",
    "output_folder = \"/home/markjenei/polymerisation-graph-simulation/epoxy-hardener/dgeba-p4a/\"\n",
    "target_conversion = 0.9 # max. extent of reaction\n",
    "for i in range(100):\n",
    "    system = System(loads, kinetic_rates)\n",
    "    sim = GraphSimulation(system, 'data', cycles_allowed=True)\n",
    "    fsse_path = \"./dgeba-p4a_fsse.data\"\n",
    "    conv_path = \"./dgeba-p4a_conv.data\"\n",
    "    fsse_monomer_index = 1 # FSSE on monomer B := 1, see above\n",
    "    sim.set_fsse_file_paths(fsse_monomer_index, fsse_path, conv_path)\n",
    "    index = str(i).zfill(max(2, len(str(i))))\n",
    "    save_file_loc = output_folder + \"run_\"+str(index)+\".out\"\n",
    "    sim.run(target_conversion, save_file_loc)"
   ],
   "metadata": {
    "collapsed": false,
    "pycharm": {
     "name": "#%%\n"
    }
   }
  },
  {
   "cell_type": "code",
   "execution_count": 9,
   "outputs": [
    {
     "name": "stdout",
     "output_type": "stream",
     "text": [
      "....................................................................................................\n",
      "gel point 0.6721030042918454\n"
     ]
    },
    {
     "data": {
      "text/plain": "Text(0.5, 0, 'conversion')"
     },
     "execution_count": 9,
     "metadata": {},
     "output_type": "execute_result"
    },
    {
     "data": {
      "text/plain": "<Figure size 432x288 with 1 Axes>",
      "image/png": "[encoded data removed]"
     },
     "metadata": {
      "needs_background": "light"
     },
     "output_type": "display_data"
    }
   ],
   "source": [
    "pp = PostProcess(loads, 'file', reactions_folder_path=output_folder, reaction_file_root='run_')\n",
    "pp.average_sizes(reduced=True)\n",
    "rpdi = pp.topology_data[\"dispersion_index\"]\n",
    "c = np.linspace(0, target_conversion, len(rpdi))\n",
    "gel_point = c[np.nonzero(rpdi == max(rpdi))[0][0]]\n",
    "print(f\"gel point {gel_point}\")\n",
    "plt.axvline(gel_point, ls=':', color='xkcd:silver')\n",
    "plt.plot(c, rpdi)\n",
    "plt.ylabel(\"reduced PDI\")\n",
    "plt.xlabel(\"conversion\")"
   ],
   "metadata": {
    "collapsed": false,
    "pycharm": {
     "name": "#%%\n"
    }
   }
  }
 ],
 "metadata": {
  "kernelspec": {
   "display_name": "Python 3",
   "language": "python",
   "name": "python3"
  },
  "language_info": {
   "codemirror_mode": {
    "name": "ipython",
    "version": 2
   },
   "file_extension": ".py",
   "mimetype": "text/x-python",
   "name": "python",
   "nbconvert_exporter": "python",
   "pygments_lexer": "ipython2",
   "version": "2.7.6"
  }
 },
 "nbformat": 4,
 "nbformat_minor": 0
}