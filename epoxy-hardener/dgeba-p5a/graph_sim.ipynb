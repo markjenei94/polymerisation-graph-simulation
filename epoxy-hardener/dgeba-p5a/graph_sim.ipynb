{
 "cells": [
  {
   "cell_type": "code",
   "execution_count": 10,
   "metadata": {
    "collapsed": true,
    "pycharm": {
     "name": "#%%\n"
    }
   },
   "outputs": [],
   "source": [
    "from modules.graph_simulation import KineticRates, System, GraphSimulation\n",
    "from modules.post_process import PostProcess\n",
    "import matplotlib.pyplot as plt\n",
    "import numpy as np"
   ]
  },
  {
   "cell_type": "code",
   "execution_count": 11,
   "outputs": [
    {
     "name": "stderr",
     "output_type": "stream",
     "text": [
      "100%|██████████| 252/252.0 [00:03<00:00, 65.19it/s]\n",
      "100%|██████████| 252/252.0 [00:03<00:00, 64.03it/s]\n",
      "100%|██████████| 252/252.0 [00:03<00:00, 63.65it/s]\n",
      "100%|██████████| 252/252.0 [00:03<00:00, 64.23it/s]\n",
      "100%|██████████| 252/252.0 [00:03<00:00, 65.23it/s]\n",
      "100%|██████████| 252/252.0 [00:03<00:00, 65.96it/s]\n",
      "100%|██████████| 252/252.0 [00:03<00:00, 65.87it/s]\n",
      "100%|██████████| 252/252.0 [00:03<00:00, 64.22it/s]\n",
      "100%|██████████| 252/252.0 [00:03<00:00, 64.15it/s]\n",
      "100%|██████████| 252/252.0 [00:03<00:00, 67.64it/s]\n",
      "100%|██████████| 252/252.0 [00:03<00:00, 64.36it/s]\n",
      "100%|██████████| 252/252.0 [00:03<00:00, 65.71it/s]\n",
      "100%|██████████| 252/252.0 [00:03<00:00, 65.88it/s]\n",
      "100%|██████████| 252/252.0 [00:03<00:00, 63.87it/s]\n",
      "100%|██████████| 252/252.0 [00:03<00:00, 64.43it/s]\n",
      "100%|██████████| 252/252.0 [00:03<00:00, 64.45it/s]\n",
      "100%|██████████| 252/252.0 [00:03<00:00, 64.22it/s]\n",
      "100%|██████████| 252/252.0 [00:03<00:00, 65.80it/s]\n",
      "100%|██████████| 252/252.0 [00:03<00:00, 67.18it/s]\n",
      "100%|██████████| 252/252.0 [00:03<00:00, 66.43it/s]\n",
      "100%|██████████| 252/252.0 [00:03<00:00, 65.31it/s]\n",
      "100%|██████████| 252/252.0 [00:04<00:00, 62.38it/s]\n",
      "100%|██████████| 252/252.0 [00:03<00:00, 65.41it/s]\n",
      "100%|██████████| 252/252.0 [00:03<00:00, 66.04it/s]\n",
      "100%|██████████| 252/252.0 [00:03<00:00, 65.28it/s]\n",
      "100%|██████████| 252/252.0 [00:03<00:00, 64.65it/s]\n",
      "100%|██████████| 252/252.0 [00:03<00:00, 64.85it/s]\n",
      "100%|██████████| 252/252.0 [00:03<00:00, 65.86it/s]\n",
      "100%|██████████| 252/252.0 [00:03<00:00, 63.67it/s]\n",
      "100%|██████████| 252/252.0 [00:03<00:00, 65.13it/s]\n",
      "100%|██████████| 252/252.0 [00:03<00:00, 64.35it/s]\n",
      "100%|██████████| 252/252.0 [00:03<00:00, 65.14it/s]\n",
      "100%|██████████| 252/252.0 [00:03<00:00, 65.99it/s]\n",
      "100%|██████████| 252/252.0 [00:03<00:00, 66.20it/s]\n",
      "100%|██████████| 252/252.0 [00:03<00:00, 63.28it/s]\n",
      "100%|██████████| 252/252.0 [00:03<00:00, 63.43it/s]\n",
      "100%|██████████| 252/252.0 [00:03<00:00, 64.05it/s]\n",
      "100%|██████████| 252/252.0 [00:03<00:00, 64.38it/s]\n",
      "100%|██████████| 252/252.0 [00:03<00:00, 64.01it/s]\n",
      "100%|██████████| 252/252.0 [00:03<00:00, 63.36it/s]\n",
      "100%|██████████| 252/252.0 [00:03<00:00, 63.88it/s]\n",
      "100%|██████████| 252/252.0 [00:03<00:00, 63.54it/s]\n",
      "100%|██████████| 252/252.0 [00:03<00:00, 65.84it/s]\n",
      "100%|██████████| 252/252.0 [00:03<00:00, 63.71it/s]\n",
      "100%|██████████| 252/252.0 [00:03<00:00, 64.58it/s]\n",
      "100%|██████████| 252/252.0 [00:03<00:00, 64.35it/s]\n",
      "100%|██████████| 252/252.0 [00:04<00:00, 62.01it/s]\n",
      "100%|██████████| 252/252.0 [00:03<00:00, 64.12it/s]\n",
      "100%|██████████| 252/252.0 [00:03<00:00, 64.76it/s]\n",
      "100%|██████████| 252/252.0 [00:04<00:00, 61.87it/s]\n",
      "100%|██████████| 252/252.0 [00:04<00:00, 58.77it/s]\n",
      "100%|██████████| 252/252.0 [00:04<00:00, 59.70it/s]\n",
      "100%|██████████| 252/252.0 [00:03<00:00, 63.36it/s]\n",
      "100%|██████████| 252/252.0 [00:03<00:00, 63.78it/s]\n",
      "100%|██████████| 252/252.0 [00:03<00:00, 63.46it/s]\n",
      "100%|██████████| 252/252.0 [00:03<00:00, 63.48it/s]\n",
      "100%|██████████| 252/252.0 [00:04<00:00, 61.52it/s]\n",
      "100%|██████████| 252/252.0 [00:04<00:00, 62.71it/s]\n",
      "100%|██████████| 252/252.0 [00:03<00:00, 65.74it/s]\n",
      "100%|██████████| 252/252.0 [00:03<00:00, 67.67it/s]\n",
      "100%|██████████| 252/252.0 [00:03<00:00, 65.52it/s]\n",
      "100%|██████████| 252/252.0 [00:03<00:00, 64.49it/s]\n",
      "100%|██████████| 252/252.0 [00:03<00:00, 65.30it/s]\n",
      "100%|██████████| 252/252.0 [00:04<00:00, 62.58it/s]\n",
      "100%|██████████| 252/252.0 [00:04<00:00, 62.43it/s]\n",
      "100%|██████████| 252/252.0 [00:03<00:00, 65.72it/s]\n",
      "100%|██████████| 252/252.0 [00:03<00:00, 65.47it/s]\n",
      "100%|██████████| 252/252.0 [00:03<00:00, 65.38it/s]\n",
      "100%|██████████| 252/252.0 [00:03<00:00, 63.49it/s]\n",
      "100%|██████████| 252/252.0 [00:03<00:00, 64.99it/s]\n",
      "100%|██████████| 252/252.0 [00:03<00:00, 66.61it/s]\n",
      "100%|██████████| 252/252.0 [00:03<00:00, 66.97it/s]\n",
      "100%|██████████| 252/252.0 [00:03<00:00, 65.79it/s]\n",
      "100%|██████████| 252/252.0 [00:03<00:00, 64.74it/s]\n",
      "100%|██████████| 252/252.0 [00:03<00:00, 64.36it/s]\n",
      "100%|██████████| 252/252.0 [00:03<00:00, 63.74it/s]\n",
      "100%|██████████| 252/252.0 [00:03<00:00, 64.76it/s]\n",
      "100%|██████████| 252/252.0 [00:03<00:00, 65.09it/s]\n",
      "100%|██████████| 252/252.0 [00:03<00:00, 64.45it/s]\n",
      "100%|██████████| 252/252.0 [00:03<00:00, 64.57it/s]\n",
      "100%|██████████| 252/252.0 [00:04<00:00, 61.37it/s]\n",
      "100%|██████████| 252/252.0 [00:04<00:00, 61.47it/s]\n",
      "100%|██████████| 252/252.0 [00:04<00:00, 61.91it/s]\n",
      "100%|██████████| 252/252.0 [00:04<00:00, 62.87it/s]\n",
      "100%|██████████| 252/252.0 [00:03<00:00, 63.52it/s]\n",
      "100%|██████████| 252/252.0 [00:03<00:00, 63.83it/s]\n",
      "100%|██████████| 252/252.0 [00:04<00:00, 62.91it/s]\n",
      "100%|██████████| 252/252.0 [00:04<00:00, 60.68it/s]\n",
      "100%|██████████| 252/252.0 [00:04<00:00, 62.12it/s]\n",
      "100%|██████████| 252/252.0 [00:03<00:00, 64.42it/s]\n",
      "100%|██████████| 252/252.0 [00:03<00:00, 64.09it/s]\n",
      "100%|██████████| 252/252.0 [00:03<00:00, 63.45it/s]\n",
      "100%|██████████| 252/252.0 [00:03<00:00, 63.89it/s]\n",
      "100%|██████████| 252/252.0 [00:03<00:00, 63.65it/s]\n",
      "100%|██████████| 252/252.0 [00:03<00:00, 63.13it/s]\n",
      "100%|██████████| 252/252.0 [00:03<00:00, 64.15it/s]\n",
      "100%|██████████| 252/252.0 [00:03<00:00, 64.14it/s]\n",
      "100%|██████████| 252/252.0 [00:03<00:00, 65.32it/s]\n",
      "100%|██████████| 252/252.0 [00:03<00:00, 63.71it/s]\n",
      "100%|██████████| 252/252.0 [00:03<00:00, 63.18it/s]\n"
     ]
    }
   ],
   "source": [
    "loads = [140, 56]\n",
    "functionalities = [2, 5]\n",
    "kinetic_rates = KineticRates(functionalities, preset=\"two_component_uniform\")\n",
    "output_folder = \"/home/markjenei/polymerisation-graph-simulation/epoxy-hardener/dgeba-p5a/\"\n",
    "target_conversion = 0.9 # max. extent of reaction\n",
    "for i in range(100):\n",
    "    system = System(loads, kinetic_rates)\n",
    "    sim = GraphSimulation(system, 'data', cycles_allowed=True)\n",
    "    fsse_path = \"./dgeba-p5a_fsse.data\"\n",
    "    conv_path = \"./dgeba-p5a_conv.data\"\n",
    "    fsse_monomer_index = 1 # FSSE on monomer B := 1, see above\n",
    "    sim.set_fsse_file_paths(fsse_monomer_index, fsse_path, conv_path)\n",
    "    index = str(i).zfill(max(2, len(str(i))))\n",
    "    save_file_loc = output_folder + \"run_\"+str(index)+\".out\"\n",
    "    sim.run(target_conversion, save_file_loc)"
   ],
   "metadata": {
    "collapsed": false,
    "pycharm": {
     "name": "#%%\n"
    }
   }
  },
  {
   "cell_type": "code",
   "execution_count": 12,
   "outputs": [
    {
     "name": "stdout",
     "output_type": "stream",
     "text": [
      "....................................................................................................\n",
      "gel point 0.5880478087649402\n"
     ]
    },
    {
     "data": {
      "text/plain": "Text(0.5, 0, 'conversion')"
     },
     "execution_count": 12,
     "metadata": {},
     "output_type": "execute_result"
    },
    {
     "data": {
      "text/plain": "<Figure size 432x288 with 1 Axes>",
      "image/png": "[encoded data removed]"
     },
     "metadata": {
      "needs_background": "light"
     },
     "output_type": "display_data"
    }
   ],
   "source": [
    "pp = PostProcess(loads, 'file', reactions_folder_path=output_folder, reaction_file_root='run_')\n",
    "pp.average_sizes(reduced=True)\n",
    "rpdi = pp.topology_data[\"dispersion_index\"]\n",
    "c = np.linspace(0, target_conversion, len(rpdi))\n",
    "gel_point = c[np.nonzero(rpdi == max(rpdi))[0][0]]\n",
    "print(f\"gel point {gel_point}\")\n",
    "plt.axvline(gel_point, ls=':', color='xkcd:silver')\n",
    "plt.plot(c, rpdi)\n",
    "plt.ylabel(\"reduced PDI\")\n",
    "plt.xlabel(\"conversion\")"
   ],
   "metadata": {
    "collapsed": false,
    "pycharm": {
     "name": "#%%\n"
    }
   }
  }
 ],
 "metadata": {
  "kernelspec": {
   "display_name": "Python 3",
   "language": "python",
   "name": "python3"
  },
  "language_info": {
   "codemirror_mode": {
    "name": "ipython",
    "version": 2
   },
   "file_extension": ".py",
   "mimetype": "text/x-python",
   "name": "python",
   "nbconvert_exporter": "python",
   "pygments_lexer": "ipython2",
   "version": "2.7.6"
  }
 },
 "nbformat": 4,
 "nbformat_minor": 0
}