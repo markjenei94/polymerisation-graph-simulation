{
 "cells": [
  {
   "cell_type": "code",
   "execution_count": 6,
   "metadata": {
    "collapsed": true,
    "pycharm": {
     "name": "#%%\n"
    }
   },
   "outputs": [],
   "source": [
    "from modules.graph_simulation import KineticRates, System, GraphSimulation\n",
    "from modules.post_process import PostProcess\n",
    "import matplotlib.pyplot as plt\n",
    "import numpy as np"
   ]
  },
  {
   "cell_type": "code",
   "execution_count": 7,
   "outputs": [
    {
     "name": "stderr",
     "output_type": "stream",
     "text": [
      "100%|██████████| 270/270.0 [00:05<00:00, 53.75it/s]\n",
      "100%|██████████| 270/270.0 [00:05<00:00, 51.80it/s]\n",
      "100%|██████████| 270/270.0 [00:05<00:00, 49.26it/s]\n",
      "100%|██████████| 270/270.0 [00:05<00:00, 53.80it/s]\n",
      "100%|██████████| 270/270.0 [00:05<00:00, 52.38it/s]\n",
      "100%|██████████| 270/270.0 [00:04<00:00, 54.20it/s]\n",
      "100%|██████████| 270/270.0 [00:05<00:00, 53.00it/s]\n",
      "100%|██████████| 270/270.0 [00:04<00:00, 54.12it/s]\n",
      "100%|██████████| 270/270.0 [00:05<00:00, 52.70it/s]\n",
      "100%|██████████| 270/270.0 [00:04<00:00, 54.58it/s]\n",
      "100%|██████████| 270/270.0 [00:05<00:00, 51.39it/s]\n",
      "100%|██████████| 270/270.0 [00:05<00:00, 52.26it/s]\n",
      "100%|██████████| 270/270.0 [00:05<00:00, 51.33it/s]\n",
      "100%|██████████| 270/270.0 [00:05<00:00, 52.04it/s]\n",
      "100%|██████████| 270/270.0 [00:05<00:00, 50.77it/s]\n",
      "100%|██████████| 270/270.0 [00:05<00:00, 52.85it/s]\n",
      "100%|██████████| 270/270.0 [00:05<00:00, 53.40it/s]\n",
      "100%|██████████| 270/270.0 [00:05<00:00, 53.22it/s]\n",
      "100%|██████████| 270/270.0 [00:05<00:00, 51.34it/s]\n",
      "100%|██████████| 270/270.0 [00:05<00:00, 50.87it/s]\n",
      "100%|██████████| 270/270.0 [00:05<00:00, 50.98it/s]\n",
      "100%|██████████| 270/270.0 [00:05<00:00, 52.18it/s]\n",
      "100%|██████████| 270/270.0 [00:05<00:00, 52.19it/s]\n",
      "100%|██████████| 270/270.0 [00:05<00:00, 52.92it/s]\n",
      "100%|██████████| 270/270.0 [00:05<00:00, 50.05it/s]\n",
      "100%|██████████| 270/270.0 [00:05<00:00, 52.74it/s]\n",
      "100%|██████████| 270/270.0 [00:05<00:00, 52.83it/s]\n",
      "100%|██████████| 270/270.0 [00:05<00:00, 53.67it/s]\n",
      "100%|██████████| 270/270.0 [00:05<00:00, 52.16it/s]\n",
      "100%|██████████| 270/270.0 [00:05<00:00, 51.14it/s]\n",
      "100%|██████████| 270/270.0 [00:05<00:00, 52.89it/s]\n",
      "100%|██████████| 270/270.0 [00:05<00:00, 53.84it/s]\n",
      "100%|██████████| 270/270.0 [00:05<00:00, 50.80it/s]\n",
      "100%|██████████| 270/270.0 [00:04<00:00, 54.39it/s]\n",
      "100%|██████████| 270/270.0 [00:05<00:00, 52.92it/s]\n",
      "100%|██████████| 270/270.0 [00:04<00:00, 54.16it/s]\n",
      "100%|██████████| 270/270.0 [00:05<00:00, 52.50it/s]\n",
      "100%|██████████| 270/270.0 [00:05<00:00, 52.17it/s]\n",
      "100%|██████████| 270/270.0 [00:05<00:00, 53.13it/s]\n",
      "100%|██████████| 270/270.0 [00:05<00:00, 49.30it/s]\n",
      "100%|██████████| 270/270.0 [00:05<00:00, 50.29it/s]\n",
      "100%|██████████| 270/270.0 [00:05<00:00, 52.71it/s]\n",
      "100%|██████████| 270/270.0 [00:05<00:00, 51.53it/s]\n",
      "100%|██████████| 270/270.0 [00:05<00:00, 50.42it/s]\n",
      "100%|██████████| 270/270.0 [00:05<00:00, 49.70it/s]\n",
      "100%|██████████| 270/270.0 [00:05<00:00, 52.56it/s]\n",
      "100%|██████████| 270/270.0 [00:05<00:00, 52.92it/s]\n",
      "100%|██████████| 270/270.0 [00:05<00:00, 53.49it/s]\n",
      "100%|██████████| 270/270.0 [00:05<00:00, 53.16it/s]\n",
      "100%|██████████| 270/270.0 [00:05<00:00, 53.86it/s]\n",
      "100%|██████████| 270/270.0 [00:05<00:00, 51.13it/s]\n",
      "100%|██████████| 270/270.0 [00:05<00:00, 53.76it/s]\n",
      "100%|██████████| 270/270.0 [00:05<00:00, 48.13it/s]\n",
      "100%|██████████| 270/270.0 [00:05<00:00, 52.57it/s]\n",
      "100%|██████████| 270/270.0 [00:05<00:00, 49.02it/s]\n",
      "100%|██████████| 270/270.0 [00:05<00:00, 51.50it/s]\n",
      "100%|██████████| 270/270.0 [00:05<00:00, 53.34it/s]\n",
      "100%|██████████| 270/270.0 [00:05<00:00, 52.29it/s]\n",
      "100%|██████████| 270/270.0 [00:05<00:00, 50.31it/s]\n",
      "100%|██████████| 270/270.0 [00:05<00:00, 52.87it/s]\n",
      "100%|██████████| 270/270.0 [00:05<00:00, 52.65it/s]\n",
      "100%|██████████| 270/270.0 [00:05<00:00, 53.06it/s]\n",
      "100%|██████████| 270/270.0 [00:05<00:00, 53.87it/s]\n",
      "100%|██████████| 270/270.0 [00:05<00:00, 51.58it/s]\n",
      "100%|██████████| 270/270.0 [00:05<00:00, 50.66it/s]\n",
      "100%|██████████| 270/270.0 [00:05<00:00, 50.94it/s]\n",
      "100%|██████████| 270/270.0 [00:05<00:00, 51.11it/s]\n",
      "100%|██████████| 270/270.0 [00:05<00:00, 51.03it/s]\n",
      "100%|██████████| 270/270.0 [00:04<00:00, 55.72it/s]\n",
      "100%|██████████| 270/270.0 [00:05<00:00, 52.74it/s]\n",
      "100%|██████████| 270/270.0 [00:04<00:00, 54.53it/s]\n",
      "100%|██████████| 270/270.0 [00:04<00:00, 54.61it/s]\n",
      "100%|██████████| 270/270.0 [00:04<00:00, 55.88it/s]\n",
      "100%|██████████| 270/270.0 [00:04<00:00, 55.55it/s]\n",
      "100%|██████████| 270/270.0 [00:04<00:00, 56.94it/s]\n",
      "100%|██████████| 270/270.0 [00:04<00:00, 57.03it/s]\n",
      "100%|██████████| 270/270.0 [00:04<00:00, 55.05it/s]\n",
      "100%|██████████| 270/270.0 [00:04<00:00, 55.94it/s]\n",
      "100%|██████████| 270/270.0 [00:04<00:00, 55.24it/s]\n",
      "100%|██████████| 270/270.0 [00:04<00:00, 56.47it/s]\n",
      "100%|██████████| 270/270.0 [00:05<00:00, 52.92it/s]\n",
      "100%|██████████| 270/270.0 [00:04<00:00, 55.95it/s]\n",
      "100%|██████████| 270/270.0 [00:04<00:00, 55.93it/s]\n",
      "100%|██████████| 270/270.0 [00:04<00:00, 57.62it/s]\n",
      "100%|██████████| 270/270.0 [00:04<00:00, 56.34it/s]\n",
      "100%|██████████| 270/270.0 [00:04<00:00, 58.43it/s]\n",
      "100%|██████████| 270/270.0 [00:04<00:00, 58.50it/s]\n",
      "100%|██████████| 270/270.0 [00:04<00:00, 57.85it/s]\n",
      "100%|██████████| 270/270.0 [00:04<00:00, 57.74it/s]\n",
      "100%|██████████| 270/270.0 [00:04<00:00, 59.34it/s]\n",
      "100%|██████████| 270/270.0 [00:04<00:00, 59.96it/s]\n",
      "100%|██████████| 270/270.0 [00:04<00:00, 57.22it/s]\n",
      "100%|██████████| 270/270.0 [00:04<00:00, 56.83it/s]\n",
      "100%|██████████| 270/270.0 [00:04<00:00, 55.91it/s]\n",
      "100%|██████████| 270/270.0 [00:04<00:00, 55.52it/s]\n",
      "100%|██████████| 270/270.0 [00:04<00:00, 56.60it/s]\n",
      "100%|██████████| 270/270.0 [00:04<00:00, 57.21it/s]\n",
      "100%|██████████| 270/270.0 [00:04<00:00, 55.57it/s]\n",
      "100%|██████████| 270/270.0 [00:04<00:00, 56.38it/s]\n",
      "100%|██████████| 270/270.0 [00:04<00:00, 59.06it/s]\n"
     ]
    }
   ],
   "source": [
    "loads = [150, 50]\n",
    "functionalities = [2, 6]\n",
    "kinetic_rates = KineticRates(functionalities, preset=\"two_component_uniform\")\n",
    "output_folder = \"/home/markjenei/polymerisation-graph-simulation/epoxy-hardener/dgeba-p6a/\"\n",
    "target_conversion = 0.9 # max. extent of reaction\n",
    "for i in range(100):\n",
    "    system = System(loads, kinetic_rates)\n",
    "    sim = GraphSimulation(system, 'data', cycles_allowed=True)\n",
    "    fsse_path = \"./dgeba-p6a_fsse.data\"\n",
    "    conv_path = \"./dgeba-p6a_conv.data\"\n",
    "    fsse_monomer_index = 1 # FSSE on monomer B := 1, see above\n",
    "    sim.set_fsse_file_paths(fsse_monomer_index, fsse_path, conv_path)\n",
    "    index = str(i).zfill(max(2, len(str(i))))\n",
    "    save_file_loc = output_folder + \"run_\"+str(index)+\".out\"\n",
    "    sim.run(target_conversion, save_file_loc)"
   ],
   "metadata": {
    "collapsed": false,
    "pycharm": {
     "name": "#%%\n"
    }
   }
  },
  {
   "cell_type": "code",
   "execution_count": 8,
   "outputs": [
    {
     "name": "stdout",
     "output_type": "stream",
     "text": [
      "....................................................................................................\n",
      "gel point 0.5219330855018588\n"
     ]
    },
    {
     "data": {
      "text/plain": "Text(0.5, 0, 'conversion')"
     },
     "execution_count": 8,
     "metadata": {},
     "output_type": "execute_result"
    },
    {
     "data": {
      "text/plain": "<Figure size 432x288 with 1 Axes>",
      "image/png": "[encoded data removed]"
     },
     "metadata": {
      "needs_background": "light"
     },
     "output_type": "display_data"
    }
   ],
   "source": [
    "pp = PostProcess(loads, 'file', reactions_folder_path=output_folder, reaction_file_root='run_')\n",
    "pp.average_sizes(reduced=True)\n",
    "rpdi = pp.topology_data[\"dispersion_index\"]\n",
    "c = np.linspace(0, target_conversion, len(rpdi))\n",
    "gel_point = c[np.nonzero(rpdi == max(rpdi))[0][0]]\n",
    "print(f\"gel point {gel_point}\")\n",
    "plt.axvline(gel_point, ls=':', color='xkcd:silver')\n",
    "plt.plot(c, rpdi)\n",
    "plt.ylabel(\"reduced PDI\")\n",
    "plt.xlabel(\"conversion\")"
   ],
   "metadata": {
    "collapsed": false,
    "pycharm": {
     "name": "#%%\n"
    }
   }
  }
 ],
 "metadata": {
  "kernelspec": {
   "display_name": "Python 3",
   "language": "python",
   "name": "python3"
  },
  "language_info": {
   "codemirror_mode": {
    "name": "ipython",
    "version": 2
   },
   "file_extension": ".py",
   "mimetype": "text/x-python",
   "name": "python",
   "nbconvert_exporter": "python",
   "pygments_lexer": "ipython2",
   "version": "2.7.6"
  }
 },
 "nbformat": 4,
 "nbformat_minor": 0
}