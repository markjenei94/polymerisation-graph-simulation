{
 "cells": [
  {
   "cell_type": "markdown",
   "source": [
    "### Work directory\n",
    "Before running a window, set the work directory (output_folder)"
   ],
   "metadata": {
    "collapsed": false,
    "pycharm": {
     "name": "#%% md\n"
    }
   }
  },
  {
   "cell_type": "markdown",
   "source": [
    "#### Two component uniform with FSSE on monomer B"
   ],
   "metadata": {
    "collapsed": false,
    "pycharm": {
     "name": "#%% md\n"
    }
   }
  },
  {
   "cell_type": "code",
   "execution_count": 3,
   "metadata": {
    "collapsed": true,
    "pycharm": {
     "is_executing": false
    }
   },
   "outputs": [
    {
     "name": "stdout",
     "text": [
      ".",
      ".",
      ".",
      ".",
      ".",
      ".",
      ".",
      ".",
      ".",
      ".",
      "\n.",
      ".",
      ".",
      ".",
      ".",
      ".",
      ".",
      ".",
      ".",
      ".",
      "\n.",
      ".",
      ".",
      ".",
      ".",
      ".",
      ".",
      ".",
      ".",
      ".",
      "\n.",
      ".",
      ".",
      ".",
      ".",
      ".",
      ".",
      ".",
      ".",
      ".",
      "\n.",
      ".",
      ".",
      ".",
      ".",
      ".",
      ".",
      ".",
      ".",
      ".",
      "\n.",
      ".",
      ".",
      ".",
      ".",
      ".",
      ".",
      ".",
      ".",
      ".",
      "\n.",
      ".",
      ".",
      ".",
      ".",
      ".",
      ".",
      ".",
      ".",
      ".",
      "\n.",
      ".",
      ".",
      ".",
      ".",
      ".",
      ".",
      ".",
      ".",
      ".",
      "\n.",
      ".",
      ".",
      ".",
      ".",
      ".",
      ".",
      ".",
      ".",
      ".",
      "\n.",
      ".",
      ".",
      ".",
      ".",
      ".",
      ".",
      ".",
      ".",
      ".",
      "\n..",
      ".",
      ".",
      ".",
      ".",
      "...",
      ".\n"
     ],
     "output_type": "stream"
    },
    {
     "data": {
      "text/plain": "[<matplotlib.lines.Line2D at 0x28775fa7d48>]"
     },
     "metadata": {},
     "output_type": "execute_result",
     "execution_count": 3
    },
    {
     "data": {
      "text/plain": "<Figure size 432x288 with 1 Axes>",
      "image/png": "[encoded data removed]"
     },
     "metadata": {
      "needs_background": "light"
     },
     "output_type": "display_data"
    }
   ],
   "source": [
    "import numpy as np\n",
    "from modules.graph_simulation import KineticRates, System, GraphSimulation\n",
    "\n",
    "loads = [200, 100]\n",
    "functionalities = [2, 4]\n",
    "\n",
    "kinetic_rates = KineticRates(functionalities, preset=\"two_component_uniform\")\n",
    "\n",
    "output_folder = \"./example_1\" + \"/\"\n",
    "\n",
    "target_conversion = 1. # max. extent of reaction\n",
    "for i in range(10):\n",
    "    system = System(loads, kinetic_rates)\n",
    "    fsse1 = [1., 1., 0.]\n",
    "    fsse2 = [100., 10., 1., .1, 0.] \n",
    "    sim = GraphSimulation(system, [fsse1, fsse2], cycles_allowed=True)\n",
    "    index = str(i).zfill(max(2, len(str(i))))\n",
    "    save_file_loc = output_folder + \"run_\"+str(index)+\".out\"\n",
    "    sim.run(target_conversion, save_file_loc)\n",
    "    \n",
    "from modules.post_process import PostProcess\n",
    "import matplotlib.pyplot as plt\n",
    "\n",
    "pp = PostProcess(loads, 'file', reactions_folder_path=output_folder, reaction_file_root='run_')\n",
    "pp.average_sizes()\n",
    "\n",
    "plt.plot(pp.topology_data[\"dispersion_index\"])\n",
    "plt.xlabel(\"reaction count\")\n",
    "plt.title(\"poly-dispersity index\")\n",
    "plt.ylabel(\"pdi\")"
   ]
  },
  {
   "cell_type": "markdown",
   "source": [
    "#### One component with two types of f. groups that can only react with each other"
   ],
   "metadata": {
    "collapsed": false,
    "pycharm": {
     "name": "#%% md\n"
    }
   }
  },
  {
   "cell_type": "code",
   "execution_count": 4,
   "outputs": [
    {
     "name": "stdout",
     "text": [
      ".",
      ".",
      ".",
      ".",
      ".",
      ".",
      ".",
      ".",
      ".",
      ".",
      "\n.",
      ".",
      ".",
      ".",
      ".",
      ".",
      ".",
      ".",
      ".",
      ".",
      "\n.",
      ".",
      ".",
      ".",
      ".",
      ".",
      ".",
      ".",
      ".",
      ".",
      "\n.",
      ".",
      ".",
      ".",
      ".",
      ".",
      ".",
      ".",
      ".",
      ".",
      "\n.",
      ".",
      ".",
      ".",
      ".",
      ".",
      ".",
      ".",
      ".",
      ".",
      "\n.",
      ".",
      ".",
      ".",
      ".",
      ".",
      ".",
      ".",
      ".",
      ".",
      "\n.",
      ".",
      ".",
      ".",
      ".",
      ".",
      ".",
      ".",
      ".",
      ".",
      "\n.",
      ".",
      ".",
      ".",
      ".",
      ".",
      ".",
      ".",
      ".",
      ".",
      "\n.",
      ".",
      ".",
      ".",
      ".",
      ".",
      ".",
      ".",
      ".",
      ".",
      "\n.",
      ".",
      ".",
      ".",
      ".",
      ".",
      ".",
      ".",
      ".",
      ".",
      "\n....",
      "...",
      "...\n"
     ],
     "output_type": "stream"
    },
    {
     "data": {
      "text/plain": "Text(0, 0.5, 'pdi')"
     },
     "metadata": {},
     "output_type": "execute_result",
     "execution_count": 4
    },
    {
     "data": {
      "text/plain": "<Figure size 432x288 with 1 Axes>",
      "image/png": "[encoded data removed]"
     },
     "metadata": {
      "needs_background": "light"
     },
     "output_type": "display_data"
    }
   ],
   "source": [
    "import numpy as np\n",
    "from modules.graph_simulation import KineticRates, System, GraphSimulation\n",
    "\n",
    "loads = [100]\n",
    "functionalities = [4]\n",
    "\n",
    "kinetic_rate_table = [[0, 0, 1, 1],\n",
    "                      [0, 0, 1, 1],\n",
    "                      [1, 1, 0, 0],\n",
    "                      [1, 1, 0, 0]]\n",
    "monomer1_index, monomer2_index = 0, 0 # monomer A index = 0, monomer B index = 1, etc.\n",
    "kinetic_rates = KineticRates(functionalities)\n",
    "kinetic_rates.add_kinetic_rate_table(monomer1_index, monomer2_index, kinetic_rate_table)\n",
    "\n",
    "output_folder = \"./example_2\" + \"/\"\n",
    "\n",
    "target_conversion = 1. # max. extent of reaction\n",
    "for i in range(10):\n",
    "    system = System(loads, kinetic_rates)\n",
    "    sim = GraphSimulation(system, \"ideal\", cycles_allowed=True)\n",
    "    index = str(i).zfill(max(2, len(str(i))))\n",
    "    save_file_loc = output_folder + \"run_\"+str(index)+\".out\"\n",
    "    sim.run(target_conversion, save_file_loc)\n",
    "    \n",
    "from modules.post_process import PostProcess\n",
    "import matplotlib.pyplot as plt\n",
    "\n",
    "pp = PostProcess(loads, 'file', reactions_folder_path=output_folder, reaction_file_root='run_')\n",
    "pp.average_sizes()\n",
    "\n",
    "plt.plot(pp.topology_data[\"dispersion_index\"])\n",
    "plt.xlabel(\"reaction count\")\n",
    "plt.title(\"poly-dispersity index\")\n",
    "plt.ylabel(\"pdi\")"
   ],
   "metadata": {
    "collapsed": false,
    "pycharm": {
     "name": "#%%\n",
     "is_executing": false
    }
   }
  },
  {
   "cell_type": "markdown",
   "source": [
    "#### Two component uniform with conversion dependent FSSE loaded from a file"
   ],
   "metadata": {
    "collapsed": false
   }
  },
  {
   "cell_type": "code",
   "execution_count": 6,
   "outputs": [
    {
     "name": "stdout",
     "output_type": "stream",
     "text": [
      "..........\n",
      ".\n"
     ]
    },
    {
     "data": {
      "text/plain": "Text(0, 0.5, 'pdi')"
     },
     "execution_count": 6,
     "metadata": {},
     "output_type": "execute_result"
    },
    {
     "data": {
      "text/plain": "<Figure size 432x288 with 1 Axes>",
      "image/png": "[encoded data removed]"
     },
     "metadata": {
      "needs_background": "light"
     },
     "output_type": "display_data"
    }
   ],
   "source": [
    "\n",
    "import numpy as np\n",
    "from modules.graph_simulation import KineticRates, System, GraphSimulation\n",
    "import os\n",
    "loads = [200, 100]\n",
    "functionalities = [2, 4]\n",
    "\n",
    "kinetic_rates = KineticRates(functionalities, preset=\"two_component_uniform\")\n",
    "\n",
    "output_folder = \"/home/markjenei/polymerisation-graph-simulation/example3/\"\n",
    "\n",
    "target_conversion = 1. # max. extent of reaction\n",
    "for i in range(1):\n",
    "    system = System(loads, kinetic_rates)\n",
    "    sim = GraphSimulation(system, 'data', cycles_allowed=True)\n",
    "    fsse_path = \"./p4a_fsse.data\"\n",
    "    conv_path = \"./p4a_conv.data\"\n",
    "    fsse_monomer_index = 1 # FSSE on monomer B := 1, see above\n",
    "    sim.set_fsse_file_paths(fsse_monomer_index, fsse_path, conv_path)\n",
    "    index = str(i).zfill(max(2, len(str(i))))\n",
    "    save_file_loc = output_folder + \"run_\"+str(index)+\".out\"\n",
    "    sim.run(target_conversion, save_file_loc)\n",
    "    \n",
    "from modules.post_process import PostProcess\n",
    "import matplotlib.pyplot as plt\n",
    "\n",
    "pp = PostProcess(loads, 'file', reactions_folder_path=output_folder, reaction_file_root='run_')\n",
    "pp.average_sizes()\n",
    "\n",
    "plt.plot(pp.topology_data[\"dispersion_index\"])\n",
    "plt.xlabel(\"reaction count\")\n",
    "plt.title(\"poly-dispersity index\")\n",
    "plt.ylabel(\"pdi\")\n"
   ],
   "metadata": {
    "collapsed": false,
    "pycharm": {
     "name": "#%%\n"
    }
   }
  }
 ],
 "metadata": {
  "kernelspec": {
   "display_name": "Python 3",
   "language": "python",
   "name": "python3"
  },
  "language_info": {
   "codemirror_mode": {
    "name": "ipython",
    "version": 2
   },
   "file_extension": ".py",
   "mimetype": "text/x-python",
   "name": "python",
   "nbconvert_exporter": "python",
   "pygments_lexer": "ipython2",
   "version": "2.7.6"
  }
 },
 "nbformat": 4,
 "nbformat_minor": 0
}